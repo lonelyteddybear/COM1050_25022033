{
 "cells": [
  {
   "cell_type": "code",
   "execution_count": 1,
   "id": "d694c6f8-298b-4399-971c-faa4773ba9cf",
   "metadata": {},
   "outputs": [
    {
     "name": "stdin",
     "output_type": "stream",
     "text": [
      " 3 5\n"
     ]
    },
    {
     "name": "stdout",
     "output_type": "stream",
     "text": [
      "Chu vi hcn là: 16.0. Diện tích hcn là: 15.0\n"
     ]
    }
   ],
   "source": [
    "#1\n",
    "a,b = map(float, input().split())\n",
    "print(f'Chu vi hcn là: {2 * (a+b)}. Diện tích hcn là: {a * b}')"
   ]
  },
  {
   "cell_type": "code",
   "execution_count": 5,
   "id": "6de3a737-565b-4660-8d6e-de4eb82216ce",
   "metadata": {},
   "outputs": [
    {
     "name": "stdin",
     "output_type": "stream",
     "text": [
      " 5\n"
     ]
    },
    {
     "name": "stdout",
     "output_type": "stream",
     "text": [
      "Chu vi htron là: 31.40. Diện tích htron là: 78.50\n"
     ]
    }
   ],
   "source": [
    "#2\n",
    "r = float(input())\n",
    "pi = 3.14\n",
    "print(f'Chu vi htron là: {2 * r * pi:.2f}. Diện tích htron là: {r**2 * pi:.2f}')"
   ]
  },
  {
   "cell_type": "code",
   "execution_count": 41,
   "id": "52809e0d-83fa-48fd-af47-905423733a0f",
   "metadata": {},
   "outputs": [
    {
     "name": "stdin",
     "output_type": "stream",
     "text": [
      " 3 4 5\n"
     ]
    },
    {
     "name": "stdout",
     "output_type": "stream",
     "text": [
      "Tam giac vuong\n",
      "Chu vi là 12.0, diện tích là 6.00\n"
     ]
    }
   ],
   "source": [
    "#3\n",
    "import math as m\n",
    "def check(a,b,c):\n",
    "    if (a + b > c): \n",
    "        return True\n",
    "    return False\n",
    "\n",
    "def vuong(a,b,c):\n",
    "    if (c**2 == a**2 + b**2):\n",
    "        return True\n",
    "    return False\n",
    "    \n",
    "a,b,c = map(float, input().split())\n",
    "if not check(a,b,c) or not check(b,c,a) or not check(a,c,b):\n",
    "    print(\"Khong phai la tam giac\")\n",
    "else:\n",
    "    if a > b:\n",
    "        a,b = b,a\n",
    "    if b > c:\n",
    "        b,c = c,b\n",
    "    if a == b and b == c:\n",
    "        print(\"Tam giac deu\")\n",
    "    elif a == b or b == c or c == a:\n",
    "        print(\"Tam giac can\")\n",
    "    elif vuong(a,b,c):\n",
    "        print(\"Tam giac vuong\")\n",
    "    else:\n",
    "        print(\"Tam giac thuong\")\n",
    "    p = (a + b + c) / 2.0\n",
    "    area = m.sqrt(p * (p-a) * (p-b) * (p-c))\n",
    "    circum = a + b + c\n",
    "    print(f'Chu vi là {circum}, diện tích là {area:.2f}')"
   ]
  },
  {
   "cell_type": "code",
   "execution_count": 15,
   "id": "69f3884f-4431-492a-99cb-15f4f0b98f13",
   "metadata": {},
   "outputs": [
    {
     "name": "stdin",
     "output_type": "stream",
     "text": [
      " 1 2\n"
     ]
    },
    {
     "name": "stdout",
     "output_type": "stream",
     "text": [
      "Phương trình có nghiệm duy nhất là -2.0\n"
     ]
    }
   ],
   "source": [
    "#4 Vt ctrinh giai pt bac 1\n",
    "a, b = map(float, input().split())\n",
    "if (a == 0.00):\n",
    "    if (b == 0.00):\n",
    "        print(\"Phương trình vô số nghiệm\")\n",
    "    else:\n",
    "        print(\"Phương trình vô nghiệm\")\n",
    "else:\n",
    "    if (b == 0.00):\n",
    "        print(f'Phương trình có nghiệm duy nhất là {0}')\n",
    "    else:\n",
    "        print(f'Phương trình có nghiệm duy nhất là {-b/a}')    "
   ]
  },
  {
   "cell_type": "code",
   "execution_count": 32,
   "id": "2bbd19d7-9c2b-464c-a3c1-ef715bfc367f",
   "metadata": {},
   "outputs": [
    {
     "name": "stdin",
     "output_type": "stream",
     "text": [
      " 1 2 1\n"
     ]
    },
    {
     "name": "stdout",
     "output_type": "stream",
     "text": [
      "PT có nghiệm kép là -1.00\n"
     ]
    }
   ],
   "source": [
    "#5 Giai pt bac 2\n",
    "import math as m\n",
    "a,b,c = map(float, input().split())\n",
    "if (a == 0.00):\n",
    "    if (b == 0.00):\n",
    "        if (c == 0.00):\n",
    "            print(\"Phương trình vô số nghiệm\")\n",
    "        else:\n",
    "            print(\"Phương trình vô nghiệm\")\n",
    "    else:\n",
    "        if (c == 0.00):\n",
    "            print(f'Phương trình có nghiệm duy nhất là {0}')\n",
    "        else:\n",
    "            print(f'Phương trình có nghiệm duy nhất là {-c/b}')    \n",
    "else:\n",
    "    delta = b*b - 4*a*c\n",
    "    if delta < 0:\n",
    "        print(\"PT vô nghiệm\")\n",
    "    elif delta == 0:\n",
    "        print(f'PT có nghiệm kép là {-b/(2*a):.2f}')\n",
    "    else:\n",
    "        print(f'PT có 2 nghiệm là {(-b-m.sqrt(delta))/(2*a):.2f} và {(-b+m.sqrt(delta))/(2*a):.2f}')"
   ]
  },
  {
   "cell_type": "code",
   "execution_count": 9,
   "id": "f807d1ad-c06b-4236-b99c-02ca7125e637",
   "metadata": {},
   "outputs": [
    {
     "name": "stdin",
     "output_type": "stream",
     "text": [
      " 1 5 3 7\n"
     ]
    },
    {
     "name": "stdout",
     "output_type": "stream",
     "text": [
      "Số nhỏ nhất là 1\n"
     ]
    }
   ],
   "source": [
    "#6\n",
    "a,b,c,d = map(int, input().split())\n",
    "if d < c:\n",
    "    d,c = c,d\n",
    "if c < b:\n",
    "    c,b = b,c\n",
    "if b < a:\n",
    "    b,a = a,b\n",
    "print(f'Số nhỏ nhất là {a}')"
   ]
  },
  {
   "cell_type": "code",
   "execution_count": 11,
   "id": "82a5b003-e025-48c8-aebb-4ea58ac53ce3",
   "metadata": {},
   "outputs": [
    {
     "name": "stdin",
     "output_type": "stream",
     "text": [
      " 14 29  19 0\n"
     ]
    },
    {
     "name": "stdout",
     "output_type": "stream",
     "text": [
      "Số lớn nhất là 29\n"
     ]
    }
   ],
   "source": [
    "#7\n",
    "a,b,c,d = map(int, input().split())\n",
    "if d > c:\n",
    "    d,c = c,d\n",
    "if c > b:\n",
    "    c,b = b,c\n",
    "if b > a:\n",
    "    b,a = a,b\n",
    "print(f'Số lớn nhất là {a}')"
   ]
  },
  {
   "cell_type": "code",
   "execution_count": null,
   "id": "162bfe95-e19c-4355-b958-8a7ff269bf22",
   "metadata": {},
   "outputs": [],
   "source": [
    "#8\n",
    "a,b,m,c,d,n = map(int, input().split())\n"
   ]
  },
  {
   "cell_type": "code",
   "execution_count": 27,
   "id": "be41b082-b45a-4318-8f18-53c29b99b13f",
   "metadata": {},
   "outputs": [
    {
     "name": "stdin",
     "output_type": "stream",
     "text": [
      " 60\n"
     ]
    },
    {
     "name": "stdout",
     "output_type": "stream",
     "text": [
      "Thoi gian duoc doi ra gio la 0.017\n",
      "Thoi gian duoc doi ra phut la 1.000\n"
     ]
    }
   ],
   "source": [
    "#9\n",
    "x = int(input())\n",
    "print(f'Thoi gian duoc doi ra gio la {x/3600:.3f}')\n",
    "print(f'Thoi gian duoc doi ra phut la {x/60:.3f}')"
   ]
  },
  {
   "cell_type": "code",
   "execution_count": 43,
   "id": "3452b852-888c-49d4-b5be-74eeb42be230",
   "metadata": {},
   "outputs": [
    {
     "name": "stdin",
     "output_type": "stream",
     "text": [
      " 3 1 \n",
      " 2\n",
      " 4 3\n"
     ]
    },
    {
     "name": "stdout",
     "output_type": "stream",
     "text": [
      "2.23606797749979\n",
      "Ngoài đường tròn\n"
     ]
    }
   ],
   "source": [
    "#10\n",
    "import math as m\n",
    "x1,y1 = map(float, input().split())\n",
    "r = int(input())\n",
    "x,y = map(float, input().split())\n",
    "\n",
    "dis = m.sqrt((x1-x)**2 + (y1-y)**2)\n",
    "print(dis)\n",
    "if (dis <= r):\n",
    "    print(\"Thuộc đường tròn\")\n",
    "else:\n",
    "    print(\"Ngoài đường tròn\")"
   ]
  },
  {
   "cell_type": "code",
   "execution_count": 21,
   "id": "08c4782b-3a01-4e0f-8f84-eb96055b90ea",
   "metadata": {},
   "outputs": [
    {
     "name": "stdin",
     "output_type": "stream",
     "text": [
      " 2 3.01\n"
     ]
    },
    {
     "name": "stdout",
     "output_type": "stream",
     "text": [
      "8.06\n",
      "8.05564440045375\n"
     ]
    }
   ],
   "source": [
    "#11\n",
    "x,y = map(float, input().split())\n",
    "print(f'{pow(x,y):.2f}')\n",
    "print(x**y)"
   ]
  }
 ],
 "metadata": {
  "kernelspec": {
   "display_name": "Python 3 (ipykernel)",
   "language": "python",
   "name": "python3"
  },
  "language_info": {
   "codemirror_mode": {
    "name": "ipython",
    "version": 3
   },
   "file_extension": ".py",
   "mimetype": "text/x-python",
   "name": "python",
   "nbconvert_exporter": "python",
   "pygments_lexer": "ipython3",
   "version": "3.13.5"
  }
 },
 "nbformat": 4,
 "nbformat_minor": 5
}
