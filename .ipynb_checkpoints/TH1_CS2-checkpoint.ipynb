{
 "cells": [
  {
   "cell_type": "code",
   "execution_count": 1,
   "id": "ceeeaf0b-f012-4e97-a4ff-76de8a08a8b2",
   "metadata": {},
   "outputs": [
    {
     "name": "stdout",
     "output_type": "stream",
     "text": [
      "7 - 5\t-2\n"
     ]
    }
   ],
   "source": [
    "#W1A1\n",
    "\n",
    "a = 7  \n",
    "# Assign the value 7 to variable 'a'.\n",
    "\n",
    "b = 5  \n",
    "# Assign the value 5 to variable 'b'.\n",
    "\n",
    "c = b - a  \n",
    "# Subtract 'a' from 'b' (5 - 7 = -2) and store the result (-2) in variable 'c'.\n",
    "\n",
    "print(a, b, sep = \" - \", end = '\\t')  \n",
    "# Print the values of 'a' and 'b'.\n",
    "# Use \" - \" as the separator between them (instead of the default space).\n",
    "# Use '\\t' (tab) as the ending instead of a newline, so the next print continues on the same line after a tab.\n",
    "\n",
    "print(c)  \n",
    "# Print the value of 'c' (-2). Because of 'end = \"\\t\"' above, this will appear on the same line after a tab.\n",
    "\n",
    "\n",
    "\n",
    "#sep mac dinh = space\n",
    "#end default = enter"
   ]
  },
  {
   "cell_type": "code",
   "execution_count": 5,
   "id": "62817556-37a5-4c1d-9488-5deeff053a99",
   "metadata": {},
   "outputs": [
    {
     "name": "stdout",
     "output_type": "stream",
     "text": [
      "TP Hanoi nam 2025\n",
      "<class 'str'>\n",
      "<class 'bool'>\n"
     ]
    }
   ],
   "source": [
    "#W1A2\n",
    "city = 'Hà Nội'  \n",
    "# Assign the string 'Hà Nội' to the variable 'city'.\n",
    "\n",
    "year = 2025  \n",
    "# Assign the integer 2025 to the variable 'year'.\n",
    "\n",
    "print(\"Thành phố: \", city, \"- Năm: \", year)  \n",
    "# Print the text \"Thành phố: \" followed by the value of 'city',\n",
    "# then print \"- Năm: \" followed by the value of 'year'.\n",
    "\n",
    "print(type(city))\n",
    "print(type(False))"
   ]
  },
  {
   "cell_type": "code",
   "execution_count": null,
   "id": "9c92ab82-9dd4-45f5-aec2-d3cc1012cf6b",
   "metadata": {},
   "outputs": [],
   "source": [
    "#W1A3\n",
    "n = 4  \n",
    "# Assign the value 4 to variable 'n'.  \n",
    "# This means we want to work with numbers from 1 to 4.\n",
    "\n",
    "t = 0  \n",
    "# Initialize variable 't' with 0.  \n",
    "# This will be used to accumulate (store) the sum.\n",
    "\n",
    "for i in range(1, n+1):  \n",
    "    # Start a loop where 'i' takes values from 1 to n (inclusive).  \n",
    "    # Here, 'i' will be: 1, 2, 3, 4.\n",
    "\n",
    "    t += i  \n",
    "    # Add the current value of 'i' to 't'.  \n",
    "    # After the loop, 't' will hold the total sum.\n",
    "\n",
    "print(t)  \n",
    "# Print the final result of 't'.\n"
   ]
  },
  {
   "cell_type": "code",
   "execution_count": null,
   "id": "a9f822b7-d137-45a8-abb4-fe514576533e",
   "metadata": {},
   "outputs": [],
   "source": [
    "#W1A4\n",
    "numbers = [1,2,3,4]  \n",
    "# Create a list named 'numbers' containing the integers 1, 2, 3, and 4.\n",
    "\n",
    "for x in numbers:  \n",
    "    # Start a loop that goes through each element in the list 'numbers'.\n",
    "    # Each time, the variable 'x' will take one value from the list.\n",
    "\n",
    "    if x % 2 == 0:  \n",
    "        # Check if 'x' is divisible by 2 (remainder is 0).\n",
    "        # If true, then 'x' is an even number.\n",
    "\n",
    "        print(x, \"Là số chẵn\")  \n",
    "        # Display the value of 'x' followed by the text \"Là số chẵn\" (is even number).\n",
    "\n",
    "    else:  \n",
    "        # If the condition above is false (x is not divisible by 2).\n",
    "        # That means 'x' is an odd number.\n",
    "\n",
    "        print(x, \"là số lẻ\")  \n",
    "        # Display the value of 'x' followed by the text \"là số lẻ\" (is odd number).\n",
    "\n",
    "        "
   ]
  },
  {
   "cell_type": "code",
   "execution_count": null,
   "id": "4c754776-1b7f-4d4e-82c1-1030f5585dd8",
   "metadata": {},
   "outputs": [],
   "source": [
    "#W1A5\n",
    "animals = [\"cat\", \"dog\", \"cat\", \"bird\"]  \n",
    "# Create a list named 'animals' containing four elements: \"cat\", \"dog\", \"cat\", and \"bird\".\n",
    "\n",
    "count = 0  \n",
    "# Initialize a variable 'count' with value 0, to store the number of elements in the list.\n",
    "\n",
    "for i in animals:  \n",
    "    # Start a loop that goes through each element in the list 'animals'.\n",
    "    # Each element is assigned to the variable 'i' in each loop iteration.\n",
    "\n",
    "    count += 1  \n",
    "    # Increase the value of 'count' by 1 for every element in the list.\n",
    "\n",
    "print(\"Số phần tử trong danh sách là:\", count)  \n",
    "# Display the text \"Số phần tử trong danh sách là:\" followed by the final value of 'count'.\n",
    "# This effectively shows the total number of elements in the list."
   ]
  },
  {
   "cell_type": "code",
   "execution_count": 14,
   "id": "e3ff6505-744b-4d0f-9fa7-2fbb706f116a",
   "metadata": {},
   "outputs": [
    {
     "name": "stdout",
     "output_type": "stream",
     "text": [
      "=== AI Prediction System ===\n",
      "1) Sentiment analysis\n",
      "2) Weather forecast\n",
      "3) Exit\n",
      "Please choose an option: \n"
     ]
    }
   ],
   "source": [
    "#W1A6\n",
    "#wrong syntax, must be printed in a function\n",
    "'''\n",
    "=== AI Prediction System ===\n",
    "1) Sentiment analysis\n",
    "2) Weather forecast\n",
    "3) Exit\n",
    "Please choose an option: \n",
    "'''\n",
    "#corrected syntax\n",
    "print(\"=== AI Prediction System ===\")\n",
    "print(\"1) Sentiment analysis\")\n",
    "print(\"2) Weather forecast\")\n",
    "print(\"3) Exit\")\n",
    "print(\"Please choose an option: \")\n"
   ]
  },
  {
   "cell_type": "code",
   "execution_count": 13,
   "id": "a84ce1e8-d512-47f0-9048-c8a67559f722",
   "metadata": {},
   "outputs": [
    {
     "name": "stdin",
     "output_type": "stream",
     "text": [
      "Nhập số:  3\n"
     ]
    },
    {
     "name": "stdout",
     "output_type": "stream",
     "text": [
      "Số lẻ\n"
     ]
    }
   ],
   "source": [
    "#W1A7\n",
    "'''\n",
    "num = input(\"Nhập số: \")\n",
    "if num % 2 = 0:\n",
    "    print(\"Số chẵn\")\n",
    "else:\n",
    "    print(\"Số lẻ\")\n",
    "'''\n",
    "#correct syntax\n",
    "num = int(input(\"Nhập số: \"))\n",
    "if num % 2 == 0:\n",
    "    print(\"Số chẵn\")\n",
    "else:\n",
    "    print(\"Số lẻ\")\n"
   ]
  },
  {
   "cell_type": "code",
   "execution_count": null,
   "id": "dc3842b0-e0e2-4f49-acfd-c0e76b1eb4e2",
   "metadata": {},
   "outputs": [],
   "source": [
    "#W1A8\n",
    "for i in range(3):  \n",
    "    # Start a loop that repeats 3 times (i takes values 0, 1, 2).\n",
    "\n",
    "    print(\"AI đang học lần\", i+1)  \n",
    "    # Print the text \"AI đang học lần\" along with (i+1).  \n",
    "    # Using i+1 makes the count start from 1 instead of 0 (so it shows 1, 2, 3).\n",
    "\n",
    "    print(\"Huấn luyện xong!\")  \n",
    "    # Print the text \"Huấn luyện xong!\" after each learning attempt."
   ]
  },
  {
   "cell_type": "code",
   "execution_count": null,
   "id": "3b936fc1-7cee-4ebe-a598-143ca6818eed",
   "metadata": {},
   "outputs": [],
   "source": [
    "#W1A9\n",
    "\n",
    "for x in [\"cat\", \"dog\", \"fish\"]:  \n",
    "    # Start a loop that goes through each element in the list [\"cat\", \"dog\", \"fish\"].  \n",
    "    # On each iteration, the variable 'x' will take one value from the list (\"cat\", then \"dog\", then \"fish\").  \n",
    "\n",
    "    print(\"Dự đoán con vật:\", x)  \n",
    "    # Print the text \"Dự đoán con vật:\" followed by the current value of 'x'.  \n"
   ]
  },
  {
   "cell_type": "code",
   "execution_count": null,
   "id": "255e30f2-de15-4b6c-b224-4d88e7e98a09",
   "metadata": {},
   "outputs": [],
   "source": [
    "#W1A10\n",
    "'''\n",
    "#Simple menu\n",
    "print \"=== AI Prediction System ===\"\n",
    "print(\"1) Sentiment analysis\"\n",
    "print(\"2) Weather forecast\"))\n",
    "print('3) Exit'\n",
    "print(\"Please choose an option:\")\n",
    "\n",
    "1. syntax\n",
    "2. missing closing parenthesis\n",
    "3. extra paren\n",
    "4. missing closing paren with single quotes\n",
    "'''\n",
    "\n",
    "#Corrected syntax\n",
    "print(\"=== AI Prediction System ===\")\n",
    "print(\"1) Sentiment analysis\")\n",
    "print(\"2) Weather forecast\")\n",
    "print(\"3) Exit\")\n",
    "print(\"Please choose an option:\")\n"
   ]
  }
 ],
 "metadata": {
  "kernelspec": {
   "display_name": "Python 3 (ipykernel)",
   "language": "python",
   "name": "python3"
  },
  "language_info": {
   "codemirror_mode": {
    "name": "ipython",
    "version": 3
   },
   "file_extension": ".py",
   "mimetype": "text/x-python",
   "name": "python",
   "nbconvert_exporter": "python",
   "pygments_lexer": "ipython3",
   "version": "3.13.5"
  }
 },
 "nbformat": 4,
 "nbformat_minor": 5
}
