{
 "cells": [
  {
   "cell_type": "code",
   "execution_count": null,
   "id": "b8e46331-e675-406e-8704-2fb6efa3418d",
   "metadata": {},
   "outputs": [],
   "source": [
    "#1\n",
    "n = int(input())\n",
    "print(2*n)"
   ]
  },
  {
   "cell_type": "code",
   "execution_count": null,
   "id": "187af056-3fc9-4571-aec8-b5eb3e1a9c38",
   "metadata": {},
   "outputs": [],
   "source": [
    "#2\n",
    "pi = 3.14\n",
    "a,b = map(int, input().split())\n",
    "c = a * b - pi * a * a / 4\n",
    "print(f'{c:.2f}')"
   ]
  },
  {
   "cell_type": "code",
   "execution_count": 4,
   "id": "44d1cd1e-bf78-4864-800d-717687c9130b",
   "metadata": {},
   "outputs": [
    {
     "name": "stdin",
     "output_type": "stream",
     "text": [
      " C\n"
     ]
    },
    {
     "name": "stdout",
     "output_type": "stream",
     "text": [
      "c\n"
     ]
    }
   ],
   "source": [
    "#3\n",
    "c = input()\n",
    "#print(ord(c))\n",
    "if (ord(c) - ord('A') <= 27):\n",
    "    c = ord(c) - ord('A') + ord('a')\n",
    "    print(chr(c))\n",
    "else:\n",
    "    c = ord(c) - ord('a') + ord('A')\n",
    "    print(chr(c))"
   ]
  },
  {
   "cell_type": "code",
   "execution_count": 8,
   "id": "b3b54905-4803-498b-ab5c-5de304e3bb2b",
   "metadata": {},
   "outputs": [
    {
     "name": "stdin",
     "output_type": "stream",
     "text": [
      " #\n"
     ]
    },
    {
     "name": "stdout",
     "output_type": "stream",
     "text": [
      "# ko là kí tự alphabet\n"
     ]
    }
   ],
   "source": [
    "#4\n",
    "c = input()\n",
    "if (ord(c) - ord('A') <= 27 and ord(c) >= ord('A')): \n",
    "    print(f'{c} là kí tự alphabet')\n",
    "elif (ord(c) - ord('a') <= 27 and ord(c) >= ord('a')):\n",
    "    print(f'{c} là kí tự alphabet')\n",
    "else:\n",
    "    print(f'{c} ko là kí tự alphabet')"
   ]
  },
  {
   "cell_type": "code",
   "execution_count": 18,
   "id": "5669961e-9ccf-433e-a827-1f76a8858130",
   "metadata": {},
   "outputs": [
    {
     "name": "stdin",
     "output_type": "stream",
     "text": [
      " Z\n"
     ]
    },
    {
     "name": "stdout",
     "output_type": "stream",
     "text": [
      "y\n"
     ]
    }
   ],
   "source": [
    "#5\n",
    "n = input()\n",
    "if (ord(n) == ord('A')):\n",
    "    print(\"z\")\n",
    "else:\n",
    "    n = ord(n) - ord('A') + ord('a')\n",
    "    n = chr(n-1)\n",
    "    print(n)"
   ]
  },
  {
   "cell_type": "code",
   "execution_count": 14,
   "id": "94588971-3e09-4d7a-9c11-69af1646fffb",
   "metadata": {},
   "outputs": [
    {
     "name": "stdin",
     "output_type": "stream",
     "text": [
      " 3 4 5\n"
     ]
    },
    {
     "name": "stdout",
     "output_type": "stream",
     "text": [
      "Chu vi la: 12.0, dien tich la: 6.0\n"
     ]
    }
   ],
   "source": [
    "#6\n",
    "import math as mt\n",
    "a,b,c = map(float, input().split())\n",
    "\n",
    "if (a + b > c and a + c > b and b + c > a and a > 0 and b > 0 and c > 0):\n",
    "    P_all = a + b + c\n",
    "    P = P_all/2\n",
    "    S = mt.sqrt(P * (P-a) * (P-b) * (P-c))\n",
    "    print(f'Chu vi la: {P_all:.1f}, dien tich la: {S:.1f}')\n",
    "else:\n",
    "    print(\"Khong phai 3 canh cua tam giac\")"
   ]
  },
  {
   "cell_type": "code",
   "execution_count": 9,
   "id": "f5e9c6f0-1f3e-422c-a563-db7f75bf01cc",
   "metadata": {},
   "outputs": [
    {
     "name": "stdin",
     "output_type": "stream",
     "text": [
      " sjkflskjsdflk\n"
     ]
    },
    {
     "name": "stdout",
     "output_type": "stream",
     "text": [
      "l / s\n"
     ]
    }
   ],
   "source": [
    "#7\n",
    "n = input()\n",
    "print(n[4], n[8], sep = ' / ')"
   ]
  },
  {
   "cell_type": "code",
   "execution_count": 25,
   "id": "a827db49-2038-4c74-9550-c6f841ae01c5",
   "metadata": {},
   "outputs": [
    {
     "name": "stdin",
     "output_type": "stream",
     "text": [
      "Ten chu ho:  HAI\n",
      "Chi so thang truoc:  2000\n",
      "Chi so thang nay:  2586\n"
     ]
    },
    {
     "name": "stdout",
     "output_type": "stream",
     "text": [
      "Họ và tên: HAI\n",
      "Tiền phải trả là: 1855505\n"
     ]
    }
   ],
   "source": [
    "#8\n",
    "#print(\"Ten chu ho: \", sep = \" \")\n",
    "name = input(\"Ten chu ho: \")\n",
    "n = int(input(\"Chi so thang truoc: \"))\n",
    "m = int(input(\"Chi so thang nay: \"))\n",
    "num = m - n #thang sau tru thang truoc\n",
    "cost = 0\n",
    "if (num > 0):\n",
    "    if (num <= 50):\n",
    "        cost = 1984 * num\n",
    "    elif (num <= 100):\n",
    "        cost = 1984 * 50 + 2050 * (num - 50)\n",
    "    elif (num <= 200):\n",
    "        cost = 1984 * 50 + 2050 * 50 + 2380 * (num - 100)\n",
    "    elif (num <= 300):\n",
    "        cost = 1984 * 50 + 2050 * 50 + 2380 * 100 + 2998 * (num - 200)\n",
    "    elif (num <= 400):\n",
    "        cost = 1984 * 50 + 2050 * 50 + 2380 * 100 + 2998 * 100 + 3350 * (num - 300)\n",
    "    else:\n",
    "        cost = 1984 * 50 + 2050 * 50 + 2380 * 100 + 2998 * 100 + 3350 * 100 + 3460 * (num - 400)\n",
    "cost = cost * 1.08\n",
    "print (f'Họ và tên: {name}')\n",
    "print (f'Tiền phải trả là: {cost:.0f}')"
   ]
  },
  {
   "cell_type": "code",
   "execution_count": null,
   "id": "1c295b00-8778-497a-9bb4-13717ee26406",
   "metadata": {},
   "outputs": [],
   "source": [
    "#1.2\n",
    "n = int(input())\n",
    "if n % 2 == 0:\n",
    "    print(\"So chan\")\n",
    "else:\n",
    "    print(\"So le\")"
   ]
  },
  {
   "cell_type": "code",
   "execution_count": 1,
   "id": "ae2fd029-6854-40b8-b29a-b0100feaef93",
   "metadata": {},
   "outputs": [
    {
     "name": "stdin",
     "output_type": "stream",
     "text": [
      " 5\n"
     ]
    },
    {
     "name": "stdout",
     "output_type": "stream",
     "text": [
      "True\n"
     ]
    }
   ],
   "source": [
    "#2.2\n",
    "n = int(input())\n",
    "if n % 10 == 5:\n",
    "    print(True)\n",
    "else:\n",
    "    print(False)"
   ]
  },
  {
   "cell_type": "code",
   "execution_count": 2,
   "id": "1c4b18c0-b86b-4299-ad74-465d9e00ecc6",
   "metadata": {},
   "outputs": [
    {
     "name": "stdin",
     "output_type": "stream",
     "text": [
      " 2008\n"
     ]
    },
    {
     "name": "stdout",
     "output_type": "stream",
     "text": [
      "False\n"
     ]
    }
   ],
   "source": [
    "#3.2\n",
    "n = int(input())\n",
    "if n % 3 == 0 and n % 5 == 0:\n",
    "    print(True)\n",
    "else:\n",
    "    print(False)"
   ]
  },
  {
   "cell_type": "code",
   "execution_count": null,
   "id": "749a4126-cf47-4322-b2e9-ddec014c34e0",
   "metadata": {},
   "outputs": [],
   "source": [
    "#4.2\n",
    "n = int(input())\n",
    "if (2025 - n >= 18):\n",
    "    print(True)\n",
    "else:\n",
    "    print(False)"
   ]
  },
  {
   "cell_type": "code",
   "execution_count": 3,
   "id": "2f512a49-26d4-45de-8d91-5042f0a6e4f0",
   "metadata": {},
   "outputs": [
    {
     "name": "stdin",
     "output_type": "stream",
     "text": [
      " 1 5\n"
     ]
    },
    {
     "name": "stdout",
     "output_type": "stream",
     "text": [
      "5 lon hon 1\n"
     ]
    }
   ],
   "source": [
    "#5.2\n",
    "n, m = map(int, input().split())\n",
    "if n < m:\n",
    "    n,m = m,n\n",
    "if n > m:\n",
    "    print(f'{n} lon hon {m}')\n",
    "else:\n",
    "    print(\"Hai so bang nhau\")"
   ]
  },
  {
   "cell_type": "code",
   "execution_count": 8,
   "id": "65f9d52d-05ff-4863-bb3e-d63095c3504e",
   "metadata": {},
   "outputs": [
    {
     "name": "stdin",
     "output_type": "stream",
     "text": [
      " 5\n"
     ]
    },
    {
     "name": "stdout",
     "output_type": "stream",
     "text": [
      "53 57\n",
      "5 la so tu nhien\n"
     ]
    }
   ],
   "source": [
    "#6.2\n",
    "n = input()\n",
    "print(ord(n), ord('9'))\n",
    "\n",
    "if ord(n) <= ord('9') and ord(n) >= ord(\"0\"):\n",
    "    print(f'{n} la so tu nhien')\n",
    "else:\n",
    "    print(f'{n} la chu cai')"
   ]
  },
  {
   "cell_type": "code",
   "execution_count": 9,
   "id": "ae5b49da-8e4e-4ec7-acdf-4189e955158a",
   "metadata": {},
   "outputs": [
    {
     "name": "stdin",
     "output_type": "stream",
     "text": [
      " 5.0000000001\n"
     ]
    },
    {
     "name": "stdout",
     "output_type": "stream",
     "text": [
      "Trung binh\n"
     ]
    }
   ],
   "source": [
    "#7.2\n",
    "n = float(input())\n",
    "if (n >= 8.00):\n",
    "    print(\"Gioi\")\n",
    "elif (n >= 6.50):\n",
    "    print(\"Kha\")\n",
    "elif (n >= 5.00):\n",
    "    print(\"Trung binh\")\n",
    "else:\n",
    "    print(\"Kem\")"
   ]
  },
  {
   "cell_type": "code",
   "execution_count": 10,
   "id": "dbdd83ab-c8c6-4f60-82a2-c94f3a58e85f",
   "metadata": {},
   "outputs": [
    {
     "name": "stdin",
     "output_type": "stream",
     "text": [
      " 2004\n"
     ]
    },
    {
     "name": "stdout",
     "output_type": "stream",
     "text": [
      "2004 la nam nhuan\n"
     ]
    }
   ],
   "source": [
    "#8.2\n",
    "n = int(input())\n",
    "if (n % 400 == 0) or (n % 4 == 0 and n % 100 != 0):\n",
    "    print(f'{n} la nam nhuan')\n",
    "else:\n",
    "    print(f'{n} khong la nam nhuan')"
   ]
  },
  {
   "cell_type": "code",
   "execution_count": 11,
   "id": "840c2ac2-96d9-4909-ba46-f2cc27f00405",
   "metadata": {},
   "outputs": [
    {
     "name": "stdin",
     "output_type": "stream",
     "text": [
      " 9\n"
     ]
    },
    {
     "name": "stdout",
     "output_type": "stream",
     "text": [
      "Chín\n"
     ]
    }
   ],
   "source": [
    "#9.2\n",
    "n = int(input())\n",
    "match n:\n",
    "    case 0:\n",
    "        print(\"Không\")\n",
    "    case 1:\n",
    "        print(\"Một\")\n",
    "    case 2:\n",
    "        print(\"Hai\")\n",
    "    case 3:\n",
    "        print(\"Ba\")\n",
    "    case 4:\n",
    "        print(\"Bốn\")\n",
    "    case 5:\n",
    "        print(\"Năm\")\n",
    "    case 6:\n",
    "        print(\"Sáu\")\n",
    "    case 7:\n",
    "        print(\"Bảy\")\n",
    "    case 8:\n",
    "        print(\"Tám\")\n",
    "    case 9:\n",
    "        print(\"Chín\")"
   ]
  },
  {
   "cell_type": "code",
   "execution_count": null,
   "id": "da38a3a5-aa7f-4534-a5e2-f1a72c3f1181",
   "metadata": {},
   "outputs": [],
   "source": [
    "#10.2\n",
    "n = float(input())\n",
    "if (n >= 4.000):\n",
    "    print(\"Qua môn\")\n",
    "else:\n",
    "    print(\"Học lại\")"
   ]
  },
  {
   "cell_type": "code",
   "execution_count": 12,
   "id": "fc835134-4a2a-44a0-82c2-05dc9f28e542",
   "metadata": {},
   "outputs": [
    {
     "name": "stdout",
     "output_type": "stream",
     "text": [
      "Năm sinh của bạn: \n"
     ]
    },
    {
     "name": "stdin",
     "output_type": "stream",
     "text": [
      " 2007\n"
     ]
    },
    {
     "name": "stdout",
     "output_type": "stream",
     "text": [
      "Năm nay bạn 18 tuổi\n"
     ]
    }
   ],
   "source": [
    "#11.2\n",
    "print(\"Năm sinh của bạn: \")\n",
    "n = int(input())\n",
    "print(f'Năm nay bạn {2025 - n} tuổi')"
   ]
  }
 ],
 "metadata": {
  "kernelspec": {
   "display_name": "Python 3 (ipykernel)",
   "language": "python",
   "name": "python3"
  },
  "language_info": {
   "codemirror_mode": {
    "name": "ipython",
    "version": 3
   },
   "file_extension": ".py",
   "mimetype": "text/x-python",
   "name": "python",
   "nbconvert_exporter": "python",
   "pygments_lexer": "ipython3",
   "version": "3.13.5"
  }
 },
 "nbformat": 4,
 "nbformat_minor": 5
}
