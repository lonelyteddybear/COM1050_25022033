{
 "cells": [
  {
   "cell_type": "code",
   "execution_count": null,
   "id": "b8e46331-e675-406e-8704-2fb6efa3418d",
   "metadata": {},
   "outputs": [],
   "source": [
    "#1\n",
    "n = int(input())\n",
    "print(2*n)"
   ]
  },
  {
   "cell_type": "code",
   "execution_count": null,
   "id": "187af056-3fc9-4571-aec8-b5eb3e1a9c38",
   "metadata": {},
   "outputs": [],
   "source": [
    "#2\n",
    "pi = 3.14\n",
    "a,b = map(int, input().split())\n",
    "c = a * b - pi * a * a / 4\n",
    "print(f'{c:.2f}')"
   ]
  },
  {
   "cell_type": "code",
   "execution_count": 4,
   "id": "44d1cd1e-bf78-4864-800d-717687c9130b",
   "metadata": {},
   "outputs": [
    {
     "name": "stdin",
     "output_type": "stream",
     "text": [
      " C\n"
     ]
    },
    {
     "name": "stdout",
     "output_type": "stream",
     "text": [
      "c\n"
     ]
    }
   ],
   "source": [
    "#3\n",
    "c = input()\n",
    "#print(ord(c))\n",
    "if (ord(c) - ord('A') <= 27):\n",
    "    c = ord(c) - ord('A') + ord('a')\n",
    "    print(chr(c))\n",
    "else:\n",
    "    c = ord(c) - ord('a') + ord('A')\n",
    "    print(chr(c))"
   ]
  },
  {
   "cell_type": "code",
   "execution_count": 8,
   "id": "b3b54905-4803-498b-ab5c-5de304e3bb2b",
   "metadata": {},
   "outputs": [
    {
     "name": "stdin",
     "output_type": "stream",
     "text": [
      " #\n"
     ]
    },
    {
     "name": "stdout",
     "output_type": "stream",
     "text": [
      "# ko là kí tự alphabet\n"
     ]
    }
   ],
   "source": [
    "#4\n",
    "c = input()\n",
    "if (ord(c) - ord('A') <= 27 and ord(c) >= ord('A')): \n",
    "    print(f'{c} là kí tự alphabet')\n",
    "elif (ord(c) - ord('a') <= 27 and ord(c) >= ord('a')):\n",
    "    print(f'{c} là kí tự alphabet')\n",
    "else:\n",
    "    print(f'{c} ko là kí tự alphabet')"
   ]
  },
  {
   "cell_type": "markdown",
   "id": "bd63d0d4-6dce-4a93-a6ee-5d6a419f6fe1",
   "metadata": {},
   "source": [
    "#6\n"
   ]
  },
  {
   "cell_type": "code",
   "execution_count": 9,
   "id": "f5e9c6f0-1f3e-422c-a563-db7f75bf01cc",
   "metadata": {},
   "outputs": [
    {
     "name": "stdin",
     "output_type": "stream",
     "text": [
      " sjkflskjsdflk\n"
     ]
    },
    {
     "name": "stdout",
     "output_type": "stream",
     "text": [
      "l / s\n"
     ]
    }
   ],
   "source": [
    "#7\n",
    "n = input()\n",
    "print(n[4], n[8], sep = ' / ')"
   ]
  },
  {
   "cell_type": "code",
   "execution_count": null,
   "id": "a827db49-2038-4c74-9550-c6f841ae01c5",
   "metadata": {},
   "outputs": [],
   "source": [
    "#8\n",
    "c = input()"
   ]
  },
  {
   "cell_type": "code",
   "execution_count": null,
   "id": "1c295b00-8778-497a-9bb4-13717ee26406",
   "metadata": {},
   "outputs": [],
   "source": [
    "#1.2\n",
    "n = int(input())\n",
    "if n % 2 == 0:\n",
    "    print(\"So chan\")\n",
    "else:\n",
    "    print(\"So le\")"
   ]
  },
  {
   "cell_type": "code",
   "execution_count": 1,
   "id": "ae2fd029-6854-40b8-b29a-b0100feaef93",
   "metadata": {},
   "outputs": [
    {
     "name": "stdin",
     "output_type": "stream",
     "text": [
      " 5\n"
     ]
    },
    {
     "name": "stdout",
     "output_type": "stream",
     "text": [
      "True\n"
     ]
    }
   ],
   "source": [
    "#2.2\n",
    "n = int(input())\n",
    "if n % 10 == 5:\n",
    "    print(True)\n",
    "else:\n",
    "    print(False)"
   ]
  },
  {
   "cell_type": "code",
   "execution_count": 2,
   "id": "1c4b18c0-b86b-4299-ad74-465d9e00ecc6",
   "metadata": {},
   "outputs": [
    {
     "name": "stdin",
     "output_type": "stream",
     "text": [
      " 2008\n"
     ]
    },
    {
     "name": "stdout",
     "output_type": "stream",
     "text": [
      "False\n"
     ]
    }
   ],
   "source": [
    "#3.2\n",
    "n = int(input())\n",
    "if n % 3 == 0 and n % 5 == 0:\n",
    "    print(True)\n",
    "else:\n",
    "    print(False)"
   ]
  },
  {
   "cell_type": "code",
   "execution_count": null,
   "id": "749a4126-cf47-4322-b2e9-ddec014c34e0",
   "metadata": {},
   "outputs": [],
   "source": [
    "#4.2\n",
    "n = int(input())\n",
    "if (2025 - n >= 18):\n",
    "    print(True)\n",
    "else:\n",
    "    print(False)"
   ]
  },
  {
   "cell_type": "code",
   "execution_count": 3,
   "id": "2f512a49-26d4-45de-8d91-5042f0a6e4f0",
   "metadata": {},
   "outputs": [
    {
     "name": "stdin",
     "output_type": "stream",
     "text": [
      " 1 5\n"
     ]
    },
    {
     "name": "stdout",
     "output_type": "stream",
     "text": [
      "5 lon hon 1\n"
     ]
    }
   ],
   "source": [
    "#5.2\n",
    "n, m = map(int, input().split())\n",
    "if n < m:\n",
    "    n,m = m,n\n",
    "if n > m:\n",
    "    print(f'{n} lon hon {m}')\n",
    "else:\n",
    "    print(\"Hai so bang nhau\")"
   ]
  },
  {
   "cell_type": "code",
   "execution_count": 8,
   "id": "65f9d52d-05ff-4863-bb3e-d63095c3504e",
   "metadata": {},
   "outputs": [
    {
     "name": "stdin",
     "output_type": "stream",
     "text": [
      " 5\n"
     ]
    },
    {
     "name": "stdout",
     "output_type": "stream",
     "text": [
      "53 57\n",
      "5 la so tu nhien\n"
     ]
    }
   ],
   "source": [
    "#6.2\n",
    "n = input()\n",
    "print(ord(n), ord('9'))\n",
    "\n",
    "if ord(n) <= ord('9') and ord(n) >= ord(\"0\"):\n",
    "    print(f'{n} la so tu nhien')\n",
    "else:\n",
    "    print(f'{n} la chu cai')"
   ]
  },
  {
   "cell_type": "code",
   "execution_count": 9,
   "id": "ae5b49da-8e4e-4ec7-acdf-4189e955158a",
   "metadata": {},
   "outputs": [
    {
     "name": "stdin",
     "output_type": "stream",
     "text": [
      " 5.0000000001\n"
     ]
    },
    {
     "name": "stdout",
     "output_type": "stream",
     "text": [
      "Trung binh\n"
     ]
    }
   ],
   "source": [
    "#7.2\n",
    "n = float(input())\n",
    "if (n >= 8.00):\n",
    "    print(\"Gioi\")\n",
    "elif (n >= 6.50):\n",
    "    print(\"Kha\")\n",
    "elif (n >= 5.00):\n",
    "    print(\"Trung binh\")\n",
    "else:\n",
    "    print(\"Kem\")"
   ]
  },
  {
   "cell_type": "code",
   "execution_count": 10,
   "id": "dbdd83ab-c8c6-4f60-82a2-c94f3a58e85f",
   "metadata": {},
   "outputs": [
    {
     "name": "stdin",
     "output_type": "stream",
     "text": [
      " 2004\n"
     ]
    },
    {
     "name": "stdout",
     "output_type": "stream",
     "text": [
      "2004 la nam nhuan\n"
     ]
    }
   ],
   "source": [
    "#8.2\n",
    "n = int(input())\n",
    "if (n % 400 == 0) or (n % 4 == 0 and n % 100 != 0):\n",
    "    print(f'{n} la nam nhuan')\n",
    "else:\n",
    "    print(f'{n} khong la nam nhuan')"
   ]
  },
  {
   "cell_type": "code",
   "execution_count": 11,
   "id": "840c2ac2-96d9-4909-ba46-f2cc27f00405",
   "metadata": {},
   "outputs": [
    {
     "name": "stdin",
     "output_type": "stream",
     "text": [
      " 9\n"
     ]
    },
    {
     "name": "stdout",
     "output_type": "stream",
     "text": [
      "Chín\n"
     ]
    }
   ],
   "source": [
    "#9.2\n",
    "n = int(input())\n",
    "match n:\n",
    "    case 0:\n",
    "        print(\"Không\")\n",
    "    case 1:\n",
    "        print(\"Một\")\n",
    "    case 2:\n",
    "        print(\"Hai\")\n",
    "    case 3:\n",
    "        print(\"Ba\")\n",
    "    case 4:\n",
    "        print(\"Bốn\")\n",
    "    case 5:\n",
    "        print(\"Năm\")\n",
    "    case 6:\n",
    "        print(\"Sáu\")\n",
    "    case 7:\n",
    "        print(\"Bảy\")\n",
    "    case 8:\n",
    "        print(\"Tám\")\n",
    "    case 9:\n",
    "        print(\"Chín\")"
   ]
  },
  {
   "cell_type": "code",
   "execution_count": null,
   "id": "da38a3a5-aa7f-4534-a5e2-f1a72c3f1181",
   "metadata": {},
   "outputs": [],
   "source": [
    "n = float(input())\n",
    "if (n >= 4.000):\n",
    "    print(\"Qua môn\")\n",
    "else:\n",
    "    print(\"Học lại\")"
   ]
  },
  {
   "cell_type": "code",
   "execution_count": 12,
   "id": "fc835134-4a2a-44a0-82c2-05dc9f28e542",
   "metadata": {},
   "outputs": [
    {
     "name": "stdout",
     "output_type": "stream",
     "text": [
      "Năm sinh của bạn: \n"
     ]
    },
    {
     "name": "stdin",
     "output_type": "stream",
     "text": [
      " 2007\n"
     ]
    },
    {
     "name": "stdout",
     "output_type": "stream",
     "text": [
      "Năm nay bạn 18 tuổi\n"
     ]
    }
   ],
   "source": [
    "print(\"Năm sinh của bạn: \")\n",
    "n = int(input())\n",
    "print(f'Năm nay bạn {2025 - n} tuổi')"
   ]
  }
 ],
 "metadata": {
  "kernelspec": {
   "display_name": "Python 3 (ipykernel)",
   "language": "python",
   "name": "python3"
  },
  "language_info": {
   "codemirror_mode": {
    "name": "ipython",
    "version": 3
   },
   "file_extension": ".py",
   "mimetype": "text/x-python",
   "name": "python",
   "nbconvert_exporter": "python",
   "pygments_lexer": "ipython3",
   "version": "3.13.5"
  }
 },
 "nbformat": 4,
 "nbformat_minor": 5
}
