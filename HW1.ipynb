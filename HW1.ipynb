{
 "cells": [
  {
   "cell_type": "code",
   "execution_count": null,
   "id": "b8e46331-e675-406e-8704-2fb6efa3418d",
   "metadata": {},
   "outputs": [],
   "source": [
    "#1\n",
    "n = int(input())\n",
    "print(2*n)"
   ]
  },
  {
   "cell_type": "code",
   "execution_count": null,
   "id": "187af056-3fc9-4571-aec8-b5eb3e1a9c38",
   "metadata": {},
   "outputs": [],
   "source": [
    "#2\n",
    "pi = 3.14\n",
    "a,b = map(int, input().split())\n",
    "c = a * b - pi * a * a / 4\n",
    "print(f'{c:.2f}')"
   ]
  },
  {
   "cell_type": "code",
   "execution_count": 4,
   "id": "44d1cd1e-bf78-4864-800d-717687c9130b",
   "metadata": {},
   "outputs": [
    {
     "name": "stdin",
     "output_type": "stream",
     "text": [
      " C\n"
     ]
    },
    {
     "name": "stdout",
     "output_type": "stream",
     "text": [
      "c\n"
     ]
    }
   ],
   "source": [
    "#3\n",
    "c = input()\n",
    "#print(ord(c))\n",
    "if (ord(c) - ord('A') <= 27):\n",
    "    c = ord(c) - ord('A') + ord('a')\n",
    "    print(chr(c))\n",
    "else:\n",
    "    c = ord(c) - ord('a') + ord('A')\n",
    "    print(chr(c))"
   ]
  },
  {
   "cell_type": "code",
   "execution_count": 8,
   "id": "b3b54905-4803-498b-ab5c-5de304e3bb2b",
   "metadata": {},
   "outputs": [
    {
     "name": "stdin",
     "output_type": "stream",
     "text": [
      " #\n"
     ]
    },
    {
     "name": "stdout",
     "output_type": "stream",
     "text": [
      "# ko là kí tự alphabet\n"
     ]
    }
   ],
   "source": [
    "#4\n",
    "c = input()\n",
    "if (ord(c) - ord('A') <= 27 and ord(c) >= ord('A')): \n",
    "    print(f'{c} là kí tự alphabet')\n",
    "elif (ord(c) - ord('a') <= 27 and ord(c) >= ord('a')):\n",
    "    print(f'{c} là kí tự alphabet')\n",
    "else:\n",
    "    print(f'{c} ko là kí tự alphabet')"
   ]
  },
  {
   "cell_type": "markdown",
   "id": "bd63d0d4-6dce-4a93-a6ee-5d6a419f6fe1",
   "metadata": {},
   "source": [
    "#6\n"
   ]
  },
  {
   "cell_type": "code",
   "execution_count": 9,
   "id": "f5e9c6f0-1f3e-422c-a563-db7f75bf01cc",
   "metadata": {},
   "outputs": [
    {
     "name": "stdin",
     "output_type": "stream",
     "text": [
      " sjkflskjsdflk\n"
     ]
    },
    {
     "name": "stdout",
     "output_type": "stream",
     "text": [
      "l / s\n"
     ]
    }
   ],
   "source": [
    "#7\n",
    "n = input()\n",
    "print(n[4], n[8], sep = ' / ')"
   ]
  }
 ],
 "metadata": {
  "kernelspec": {
   "display_name": "Python 3 (ipykernel)",
   "language": "python",
   "name": "python3"
  },
  "language_info": {
   "codemirror_mode": {
    "name": "ipython",
    "version": 3
   },
   "file_extension": ".py",
   "mimetype": "text/x-python",
   "name": "python",
   "nbconvert_exporter": "python",
   "pygments_lexer": "ipython3",
   "version": "3.13.5"
  }
 },
 "nbformat": 4,
 "nbformat_minor": 5
}
