{
 "cells": [
  {
   "cell_type": "code",
   "execution_count": 1,
   "id": "c68b94ab-8454-490a-80fb-263a63a76f14",
   "metadata": {},
   "outputs": [
    {
     "name": "stdout",
     "output_type": "stream",
     "text": [
      "Hello World!\n"
     ]
    }
   ],
   "source": [
    "#W2A1\n",
    "print(\"Hello World!\")"
   ]
  },
  {
   "cell_type": "code",
   "execution_count": 2,
   "id": "97bc6cba-7e5b-4bec-99c0-182f5e4ea36e",
   "metadata": {},
   "outputs": [
    {
     "name": "stdin",
     "output_type": "stream",
     "text": [
      " trung\n"
     ]
    },
    {
     "name": "stdout",
     "output_type": "stream",
     "text": [
      "Xin chào bạn trung\n"
     ]
    }
   ],
   "source": [
    "#W2A2\n",
    "name = input()\n",
    "print(f'Xin chào bạn {name}')"
   ]
  },
  {
   "cell_type": "code",
   "execution_count": 12,
   "id": "e85b4443-ce0e-435f-a233-91c83388215e",
   "metadata": {},
   "outputs": [
    {
     "name": "stdin",
     "output_type": "stream",
     "text": [
      " 5 2\n"
     ]
    },
    {
     "name": "stdout",
     "output_type": "stream",
     "text": [
      "5 + 2 = 7\n",
      "5 - 2 = 3\n",
      "5 * 2 = 10\n",
      "5 / 2 = 2.50\n",
      "5 // 2 = 2\n",
      "5 % 2 = 1\n"
     ]
    }
   ],
   "source": [
    "#W2A3\n",
    "a, b = map(int, input().split())\n",
    "print(f'{a} + {b} = {a + b}')\n",
    "print(f'{a} - {b} = {a - b}')\n",
    "print(f'{a} * {b} = {a * b}')\n",
    "print(f'{a} / {b} = {a / b:.2f}') # lay chu so thap phan sau day phay \n",
    "print(f'{a} // {b} = {a // b}')\n",
    "print(f'{a} % {b} = {a % b}')"
   ]
  },
  {
   "cell_type": "code",
   "execution_count": 13,
   "id": "dd9a4c6f-a441-4ad8-a388-c405226c625e",
   "metadata": {},
   "outputs": [
    {
     "name": "stdin",
     "output_type": "stream",
     "text": [
      " 10 10 10 10 9 9\n"
     ]
    },
    {
     "name": "stdout",
     "output_type": "stream",
     "text": [
      "9.5\n"
     ]
    }
   ],
   "source": [
    "#W2A4\n",
    "a1, b1, c1, a2, b2, a3 = map(int, input().split())\n",
    "TB = (a1 + b1 + c1 + (a2 + b2) * 2 + a3 * 3 ) / 10\n",
    "print(f'{TB:.1f}')"
   ]
  },
  {
   "cell_type": "code",
   "execution_count": 3,
   "id": "f2f468b5-7200-4275-ad07-090df1ac5d13",
   "metadata": {
    "scrolled": true
   },
   "outputs": [
    {
     "name": "stdin",
     "output_type": "stream",
     "text": [
      " 2 3\n"
     ]
    },
    {
     "name": "stdout",
     "output_type": "stream",
     "text": [
      "8\n"
     ]
    }
   ],
   "source": [
    "'''\n",
    "so1 = int(input())\n",
    "print(so1)\n",
    "'''\n",
    "#W2A5\n",
    "so1, so2 = map(int, input().split())\n",
    "print(f'{so1**so2}')"
   ]
  },
  {
   "cell_type": "code",
   "execution_count": 13,
   "id": "14947254-7ddd-496d-be57-1994dda5ace3",
   "metadata": {},
   "outputs": [
    {
     "name": "stdin",
     "output_type": "stream",
     "text": [
      " a\n"
     ]
    },
    {
     "name": "stdout",
     "output_type": "stream",
     "text": [
      "A\n"
     ]
    }
   ],
   "source": [
    "#W2A6\n",
    "#just for single char only\n",
    "s = input()\n",
    "s = ord(s) - 32\n",
    "print(chr(s))"
   ]
  },
  {
   "cell_type": "code",
   "execution_count": 5,
   "id": "98ef5270-2b25-4082-9ad2-9f73e2dfee09",
   "metadata": {},
   "outputs": [
    {
     "name": "stdout",
     "output_type": "stream",
     "text": [
      "512\t512\n"
     ]
    }
   ],
   "source": [
    "#W2A7\n",
    "A = ((13**2) * 3) + 5\n",
    "B = 13**2*3 + 5\n",
    "print(A, B, sep = '\\t')"
   ]
  },
  {
   "cell_type": "code",
   "execution_count": 15,
   "id": "0c6a1f55-595a-4bf2-a679-b5267dcc3502",
   "metadata": {},
   "outputs": [
    {
     "name": "stdin",
     "output_type": "stream",
     "text": [
      " 5\n"
     ]
    },
    {
     "name": "stdout",
     "output_type": "stream",
     "text": [
      "41.00\n"
     ]
    }
   ],
   "source": [
    "#W2A8\n",
    "C = float(input())\n",
    "F = (9/5)*C + 32\n",
    "print(f'{F:.2f}')\n",
    "\n",
    "#25025008@vnu.edu.vn (submit here)"
   ]
  },
  {
   "cell_type": "code",
   "execution_count": 15,
   "id": "65092fba-3da0-4144-bc1c-d7f8cb75ee71",
   "metadata": {},
   "outputs": [
    {
     "name": "stdin",
     "output_type": "stream",
     "text": [
      " 1\n"
     ]
    },
    {
     "name": "stdout",
     "output_type": "stream",
     "text": [
      "11.40\n"
     ]
    }
   ],
   "source": [
    "#W2A9\n",
    "x = float(input())\n",
    "total = x * 1.4 + 10.00\n",
    "print(f'{total:.2f}')"
   ]
  },
  {
   "cell_type": "code",
   "execution_count": 23,
   "id": "01309c37-b347-4e31-a28e-869002b09043",
   "metadata": {},
   "outputs": [
    {
     "name": "stdin",
     "output_type": "stream",
     "text": [
      " bob ben boll\n"
     ]
    },
    {
     "name": "stdout",
     "output_type": "stream",
     "text": [
      "Hi boll, ben and bob\n"
     ]
    }
   ],
   "source": [
    "#W2A10\n",
    "n1, n2, n3 = map(str, input().split()) #name 1,2,3\n",
    "print(f'Hi {n3}, {n2} and {n1}')"
   ]
  },
  {
   "cell_type": "code",
   "execution_count": 29,
   "id": "944510b9-649b-465d-ad76-ba277d65adba",
   "metadata": {},
   "outputs": [
    {
     "name": "stdin",
     "output_type": "stream",
     "text": [
      " /10 /10\n"
     ]
    },
    {
     "name": "stdout",
     "output_type": "stream",
     "text": [
      "10 10\n",
      "36600\n"
     ]
    }
   ],
   "source": [
    "#W2A11\n",
    "a, b = map(str, input().split())\n",
    "a = a[1:]\n",
    "b = b[1:]\n",
    "#print(a, b)\n",
    "a = int(a)\n",
    "b = int(b)\n",
    "c = a * 3600 + b * 60\n",
    "print(c)"
   ]
  },
  {
   "cell_type": "code",
   "execution_count": 16,
   "id": "2248dfcd-3e81-48b6-9c38-f2f884f7bfc7",
   "metadata": {},
   "outputs": [
    {
     "name": "stdin",
     "output_type": "stream",
     "text": [
      " 3\n"
     ]
    },
    {
     "name": "stdout",
     "output_type": "stream",
     "text": [
      "54\n"
     ]
    }
   ],
   "source": [
    "#W2A12\n",
    "n = int(input())\n",
    "print(n**2 * 6)"
   ]
  },
  {
   "cell_type": "code",
   "execution_count": 30,
   "id": "ba1dba7f-0991-494c-abe7-a2d110639dc2",
   "metadata": {},
   "outputs": [
    {
     "name": "stdin",
     "output_type": "stream",
     "text": [
      " /10 /11\n"
     ]
    },
    {
     "name": "stdout",
     "output_type": "stream",
     "text": [
      "10 11\n",
      "0\n"
     ]
    }
   ],
   "source": [
    "#W2A13\n",
    "a, b = map(str, input().split())\n",
    "a = a[1:]\n",
    "b = b[1:]\n",
    "#print(a, b)\n",
    "a = int(a)\n",
    "b = int(b)\n",
    "c = a * b\n",
    "print(c % 10)"
   ]
  },
  {
   "cell_type": "code",
   "execution_count": 10,
   "id": "e5a945e9-6f29-4e62-b7e5-f719d2e81c8e",
   "metadata": {},
   "outputs": [
    {
     "name": "stdin",
     "output_type": "stream",
     "text": [
      " 1 2\n"
     ]
    },
    {
     "name": "stdout",
     "output_type": "stream",
     "text": [
      "2  1\n"
     ]
    }
   ],
   "source": [
    "#W2A14\n",
    "a,b = map(int, input().split())\n",
    "a,b = b,a\n",
    "print(a, b, sep = \"  \")"
   ]
  },
  {
   "cell_type": "code",
   "execution_count": 33,
   "id": "2880c21e-91d6-4208-bf4c-d794227a310c",
   "metadata": {},
   "outputs": [
    {
     "name": "stdin",
     "output_type": "stream",
     "text": [
      " 2\n"
     ]
    },
    {
     "name": "stdout",
     "output_type": "stream",
     "text": [
      "    *\n",
      "   ***\n",
      "  *****\n",
      " *******\n",
      "*********\n"
     ]
    }
   ],
   "source": [
    "#W2A15\n",
    "n = int(input())\n",
    "#dont know how to progress"
   ]
  },
  {
   "cell_type": "code",
   "execution_count": 6,
   "id": "9bae4ae3-b08d-4829-95b3-a906e8327d4d",
   "metadata": {},
   "outputs": [
    {
     "name": "stdout",
     "output_type": "stream",
     "text": [
      "Spring\n",
      "Summer\n",
      "Autumn\n",
      "Winter\n"
     ]
    }
   ],
   "source": [
    "#W2A16\n",
    "print(\"Spring\", \"Summer\", \"Autumn\", \"Winter\", sep = '\\n')"
   ]
  },
  {
   "cell_type": "code",
   "execution_count": 9,
   "id": "72cf6e3c-3ec4-4bf5-a0f2-43ea553e355e",
   "metadata": {},
   "outputs": [
    {
     "name": "stdout",
     "output_type": "stream",
     "text": [
      "*\n",
      "***\n",
      "*****\n"
     ]
    }
   ],
   "source": [
    "#W2A17\n",
    "print(\"*\")\n",
    "print(\"***\")\n",
    "print(\"*****\")"
   ]
  },
  {
   "cell_type": "code",
   "execution_count": 20,
   "id": "4c1de40b-a817-4028-baa2-69773fd82442",
   "metadata": {},
   "outputs": [
    {
     "name": "stdout",
     "output_type": "stream",
     "text": [
      "### ##  ### ###\n",
      " #  # #  #   #\n",
      " #  #  # #   #\n",
      " #  # #  #   #\n",
      " #  ##   #   #\n"
     ]
    }
   ],
   "source": [
    "#W2A18\n",
    "print(\"### ##  ### ###\")\n",
    "print(\" #  # #  #   #\")\n",
    "print(\" #  #  # #   #\")\n",
    "print(\" #  # #  #   #\")\n",
    "print(\" #  ##   #   #\")"
   ]
  },
  {
   "cell_type": "code",
   "execution_count": 7,
   "id": "aca8e07c-d9a9-45bd-8491-58e94798aff4",
   "metadata": {},
   "outputs": [
    {
     "name": "stdout",
     "output_type": "stream",
     "text": [
      "Monday\n",
      "Tuesday\n",
      "Wednesday\n",
      "Thursday\n",
      "Friday\n",
      "Saturday\n",
      "Sunday\n"
     ]
    }
   ],
   "source": [
    "#W2A19\n",
    "print(\"Monday\", \"Tuesday\", \"Wednesday\", \"Thursday\", \"Friday\", \"Saturday\", \"Sunday\", sep = '\\n')"
   ]
  },
  {
   "cell_type": "code",
   "execution_count": 8,
   "id": "40d6fa3e-9673-43df-b98a-0382a82b9f15",
   "metadata": {},
   "outputs": [
    {
     "name": "stdout",
     "output_type": "stream",
     "text": [
      "January\n",
      "February\n",
      "March\n",
      "April\n",
      "May\n",
      "June\n",
      "July\n",
      "August\n",
      "September\n",
      "October\n",
      "November\n",
      "December\n"
     ]
    }
   ],
   "source": [
    "#W2A20\n",
    "print(\"January\", \"February\", \"March\", \"April\", \"May\", \"June\", \"July\", \"August\", \"September\", sep = '\\n')\n",
    "print(\"October\", \"November\", \"December\", sep = '\\n')"
   ]
  },
  {
   "cell_type": "code",
   "execution_count": null,
   "id": "fc47d620-f5c1-4975-aa5b-49824ca5e15c",
   "metadata": {},
   "outputs": [],
   "source": [
    "#W2A21\n",
    "for i in range(10):\n",
    "    print(\"Hello, world\")"
   ]
  }
 ],
 "metadata": {
  "kernelspec": {
   "display_name": "Python 3 (ipykernel)",
   "language": "python",
   "name": "python3"
  },
  "language_info": {
   "codemirror_mode": {
    "name": "ipython",
    "version": 3
   },
   "file_extension": ".py",
   "mimetype": "text/x-python",
   "name": "python",
   "nbconvert_exporter": "python",
   "pygments_lexer": "ipython3",
   "version": "3.13.5"
  }
 },
 "nbformat": 4,
 "nbformat_minor": 5
}
