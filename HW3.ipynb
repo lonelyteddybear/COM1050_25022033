{
 "cells": [
  {
   "cell_type": "code",
   "execution_count": 5,
   "id": "3846a35e-ae13-4b2d-bc87-b9edb95a1242",
   "metadata": {},
   "outputs": [
    {
     "name": "stdin",
     "output_type": "stream",
     "text": [
      " 4\n"
     ]
    },
    {
     "name": "stdout",
     "output_type": "stream",
     "text": [
      "Yes\n"
     ]
    }
   ],
   "source": [
    "#W3A3\n",
    "n = int(input())\n",
    "print(\"Yes\" if n & (n-1) == 0 else \"No\")"
   ]
  },
  {
   "cell_type": "code",
   "execution_count": 15,
   "id": "595d74dc-1382-4678-a442-104806c2d4b0",
   "metadata": {},
   "outputs": [
    {
     "name": "stdin",
     "output_type": "stream",
     "text": [
      " 1 0.02\n"
     ]
    },
    {
     "name": "stdout",
     "output_type": "stream",
     "text": [
      "50\n"
     ]
    }
   ],
   "source": [
    "#W3A4\n",
    "import math\n",
    "m,n = map(float, input().split())\n",
    "print (math.floor(m/n))"
   ]
  },
  {
   "cell_type": "code",
   "execution_count": 12,
   "id": "224414ca-4d28-4673-800b-f672703caa9c",
   "metadata": {},
   "outputs": [
    {
     "name": "stdin",
     "output_type": "stream",
     "text": [
      " 2.0 1.02\n"
     ]
    },
    {
     "name": "stdout",
     "output_type": "stream",
     "text": [
      "2\n"
     ]
    }
   ],
   "source": [
    "#W3A5\n",
    "import math \n",
    "m,n = map(float, input().split())\n",
    "print (math.ceil(m/n))"
   ]
  },
  {
   "cell_type": "code",
   "execution_count": 16,
   "id": "49478d52-3997-448f-8ac8-1b353644279f",
   "metadata": {},
   "outputs": [
    {
     "name": "stdin",
     "output_type": "stream",
     "text": [
      " 3\n"
     ]
    },
    {
     "name": "stdout",
     "output_type": "stream",
     "text": [
      "Odd\n"
     ]
    }
   ],
   "source": [
    "#W3A6\n",
    "x = int(input())\n",
    "print(\"Even\" if x % 2 == 0 else \"Odd\")"
   ]
  },
  {
   "cell_type": "code",
   "execution_count": 2,
   "id": "72f944a3-dc22-4f3f-badd-ad29a04a18d7",
   "metadata": {},
   "outputs": [
    {
     "name": "stdin",
     "output_type": "stream",
     "text": [
      " -1 0\n"
     ]
    },
    {
     "name": "stdout",
     "output_type": "stream",
     "text": [
      "No\n"
     ]
    }
   ],
   "source": [
    "#W3A7\n",
    "a,b = map(int, input().split())\n",
    "if a < 0 and b < 0:\n",
    "    print(\"Yes\")\n",
    "else:\n",
    "    print(\"No\")"
   ]
  },
  {
   "cell_type": "code",
   "execution_count": 18,
   "id": "c8df64d7-dd59-44d6-96c5-e14868acae90",
   "metadata": {},
   "outputs": [
    {
     "name": "stdin",
     "output_type": "stream",
     "text": [
      " sf a\n"
     ]
    },
    {
     "name": "stdout",
     "output_type": "stream",
     "text": [
      "True\n"
     ]
    }
   ],
   "source": [
    "#W3A8\n",
    "a,b = map(str, input().split())\n",
    "print(True if len(a) > len(b) else False)"
   ]
  },
  {
   "cell_type": "code",
   "execution_count": 20,
   "id": "1494b0b4-845c-4bd8-889b-afa346a83d45",
   "metadata": {},
   "outputs": [
    {
     "name": "stdin",
     "output_type": "stream",
     "text": [
      " 6 8 10\n"
     ]
    },
    {
     "name": "stdout",
     "output_type": "stream",
     "text": [
      "Yes\n"
     ]
    }
   ],
   "source": [
    "#W3A9\n",
    "import math as m\n",
    "def check(a,b,c):\n",
    "    if (a + b > c): \n",
    "        return True\n",
    "    return False\n",
    "\n",
    "a,b,c = map(float, input().split())\n",
    "if not check(a,b,c) or not check(b,c,a) or not check(a,c,b):\n",
    "    print(\"No\")\n",
    "else:\n",
    "    print(\"Yes\")"
   ]
  },
  {
   "cell_type": "code",
   "execution_count": null,
   "id": "27d1f0eb-08a6-4db9-a17f-95aded200e98",
   "metadata": {},
   "outputs": [],
   "source": [
    "#W3A10\n",
    "a,b,c,d = map(int, input().split())\n",
    "if d > c:\n",
    "    d,c = c,d\n",
    "if c > b:\n",
    "    c,b = b,c\n",
    "if b > a:\n",
    "    b,a = a,b\n",
    "print(f'Số lớn nhất là {a}')"
   ]
  },
  {
   "cell_type": "code",
   "execution_count": null,
   "id": "fab83c42-445d-4a2b-b663-c92b7188d8fa",
   "metadata": {},
   "outputs": [],
   "source": [
    "#W3A11\n",
    "import math as m\n",
    "def check(a,b,c):\n",
    "    if (a + b > c): \n",
    "        return True\n",
    "    return False\n",
    "\n",
    "def vuong(a,b,c):\n",
    "    if (c**2 == a**2 + b**2):\n",
    "        return True\n",
    "    return False\n",
    "    \n",
    "a,b,c = map(float, input().split())\n",
    "if not check(a,b,c) or not check(b,c,a) or not check(a,c,b):\n",
    "    print(\"Khong phai la tam giac\")\n",
    "else:\n",
    "    if a > b:\n",
    "        a,b = b,a\n",
    "    if b > c:\n",
    "        b,c = c,b\n",
    "    if a == b and b == c:\n",
    "        print(\"Tam giac deu\")\n",
    "    elif a == b or b == c or c == a:\n",
    "        print(\"Tam giac can\")\n",
    "    elif vuong(a,b,c):\n",
    "        print(\"Tam giac vuong\")\n",
    "    else:\n",
    "        print(\"Tam giac thuong\")"
   ]
  },
  {
   "cell_type": "code",
   "execution_count": 22,
   "id": "beb09725-1f5e-419c-8d9b-9845c1770941",
   "metadata": {},
   "outputs": [
    {
     "name": "stdin",
     "output_type": "stream",
     "text": [
      " 2000\n"
     ]
    },
    {
     "name": "stdout",
     "output_type": "stream",
     "text": [
      "Yes\n"
     ]
    }
   ],
   "source": [
    "#W3A12\n",
    "n = int(input())\n",
    "print(\"Yes\" if n % 400 == 0 or (n % 4 == 0 and n % 100 != 0) else \"No\")"
   ]
  },
  {
   "cell_type": "code",
   "execution_count": 23,
   "id": "79df9635-7334-4649-9ffc-842d2a922507",
   "metadata": {},
   "outputs": [
    {
     "name": "stdin",
     "output_type": "stream",
     "text": [
      " 1 2\n"
     ]
    },
    {
     "name": "stdout",
     "output_type": "stream",
     "text": [
      "Phương trình có nghiệm duy nhất là -2.00\n"
     ]
    }
   ],
   "source": [
    "#W3A14\n",
    "a, b = map(float, input().split())\n",
    "if (a == 0.00):\n",
    "    if (b == 0.00):\n",
    "        print(\"Phương trình vô số nghiệm\")\n",
    "    else:\n",
    "        print(\"Phương trình vô nghiệm\")\n",
    "else:\n",
    "    if (b == 0.00):\n",
    "        print(f'Phương trình có nghiệm duy nhất là {0}')\n",
    "    else:\n",
    "        print(f'Phương trình có nghiệm duy nhất là {-b/a:.2f}')    "
   ]
  },
  {
   "cell_type": "code",
   "execution_count": 24,
   "id": "bd92e973-16b0-4edd-951e-021ec472e37d",
   "metadata": {},
   "outputs": [
    {
     "name": "stdin",
     "output_type": "stream",
     "text": [
      " 7.9\n"
     ]
    },
    {
     "name": "stdout",
     "output_type": "stream",
     "text": [
      "Khá\n"
     ]
    }
   ],
   "source": [
    "#W3A15\n",
    "n = float(input())\n",
    "if (n < 5.00):\n",
    "    print(\"Yếu\")\n",
    "if (5.00 <= n < 6.5):\n",
    "    print(\"Trung bình\")\n",
    "if (6.50 <= n < 8.00):\n",
    "    print(\"Khá\")\n",
    "if (n >= 8.00):\n",
    "    print(\"Giỏi\")"
   ]
  },
  {
   "cell_type": "code",
   "execution_count": 27,
   "id": "2897c405-6cd4-44d9-949a-e55d8c8a426f",
   "metadata": {},
   "outputs": [
    {
     "name": "stdin",
     "output_type": "stream",
     "text": [
      " 3.49\n"
     ]
    },
    {
     "name": "stdout",
     "output_type": "stream",
     "text": [
      "3 4 3\n"
     ]
    }
   ],
   "source": [
    "#W3A16\n",
    "n = float(input())\n",
    "print(int(n), int(n+1), end = \" \")\n",
    "print(int(n)+1 if n >= int(n) + 0.5 else int(n))"
   ]
  },
  {
   "cell_type": "code",
   "execution_count": 31,
   "id": "0cbf38f4-307a-487b-8636-20c6904819f0",
   "metadata": {},
   "outputs": [
    {
     "name": "stdin",
     "output_type": "stream",
     "text": [
      " 1 2 4 8\n"
     ]
    },
    {
     "name": "stdout",
     "output_type": "stream",
     "text": [
      "La cap so nhan voi cong boi nguyen\n"
     ]
    }
   ],
   "source": [
    "#W3A17\n",
    "a,b,c,d = map(int, input().split())\n",
    "if (b % a != 0):\n",
    "    print(\"Khong la cap so nhan voi cong boi nguyen\")\n",
    "else:\n",
    "    cong_boi = b / a\n",
    "    if b * cong_boi == c and c * cong_boi == d:\n",
    "        print(\"La cap so nhan voi cong boi nguyen\")\n",
    "    else:\n",
    "        print(\"Khong la cap so nhan voi cong boi nguyen\")"
   ]
  }
 ],
 "metadata": {
  "kernelspec": {
   "display_name": "Python 3 (ipykernel)",
   "language": "python",
   "name": "python3"
  },
  "language_info": {
   "codemirror_mode": {
    "name": "ipython",
    "version": 3
   },
   "file_extension": ".py",
   "mimetype": "text/x-python",
   "name": "python",
   "nbconvert_exporter": "python",
   "pygments_lexer": "ipython3",
   "version": "3.13.5"
  }
 },
 "nbformat": 4,
 "nbformat_minor": 5
}
