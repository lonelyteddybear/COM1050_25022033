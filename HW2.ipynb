{
 "cells": [
  {
   "cell_type": "code",
   "execution_count": 1,
   "id": "d694c6f8-298b-4399-971c-faa4773ba9cf",
   "metadata": {},
   "outputs": [
    {
     "name": "stdin",
     "output_type": "stream",
     "text": [
      " 3 5\n"
     ]
    },
    {
     "name": "stdout",
     "output_type": "stream",
     "text": [
      "Chu vi hcn là: 16.0. Diện tích hcn là: 15.0\n"
     ]
    }
   ],
   "source": [
    "#1\n",
    "a,b = map(float, input().split())\n",
    "print(f'Chu vi hcn là: {2 * (a+b)}. Diện tích hcn là: {a * b}')"
   ]
  },
  {
   "cell_type": "code",
   "execution_count": 5,
   "id": "6de3a737-565b-4660-8d6e-de4eb82216ce",
   "metadata": {},
   "outputs": [
    {
     "name": "stdin",
     "output_type": "stream",
     "text": [
      " 5\n"
     ]
    },
    {
     "name": "stdout",
     "output_type": "stream",
     "text": [
      "Chu vi htron là: 31.40. Diện tích htron là: 78.50\n"
     ]
    }
   ],
   "source": [
    "#2\n",
    "r = float(input())\n",
    "pi = 3.14\n",
    "print(f'Chu vi htron là: {2 * r * pi:.2f}. Diện tích htron là: {r**2 * pi:.2f}')"
   ]
  },
  {
   "cell_type": "code",
   "execution_count": 24,
   "id": "52809e0d-83fa-48fd-af47-905423733a0f",
   "metadata": {},
   "outputs": [
    {
     "name": "stdin",
     "output_type": "stream",
     "text": [
      " 2 2 3\n"
     ]
    }
   ],
   "source": [
    "#3\n",
    "def check(a,b,c):\n",
    "    if (a + b > c): \n",
    "        return True\n",
    "    return False\n",
    "\n",
    "\n",
    "a,b,c = map(float, input().split())\n",
    "if not check(a,b,c) or not check(b,c,a) or not check(a,c,b):\n",
    "    print(\"Khong phai la tam giac\")\n",
    "else:\n",
    "    "
   ]
  },
  {
   "cell_type": "code",
   "execution_count": 15,
   "id": "69f3884f-4431-492a-99cb-15f4f0b98f13",
   "metadata": {},
   "outputs": [
    {
     "name": "stdin",
     "output_type": "stream",
     "text": [
      " 1 2\n"
     ]
    },
    {
     "name": "stdout",
     "output_type": "stream",
     "text": [
      "Phương trình có nghiệm duy nhất là -2.0\n"
     ]
    }
   ],
   "source": [
    "#4 Vt ctrinh giai pt bac 1\n",
    "a, b = map(float, input().split())\n",
    "if (a == 0.00):\n",
    "    if (b == 0.00):\n",
    "        print(\"Phương trình vô số nghiệm\")\n",
    "    else:\n",
    "        print(\"Phương trình vô nghiệm\")\n",
    "else:\n",
    "    if (b == 0.00):\n",
    "        print(f'Phương trình có nghiệm duy nhất là {0}')\n",
    "    else:\n",
    "        print(f'Phương trình có nghiệm duy nhất là {-b/a}')    "
   ]
  },
  {
   "cell_type": "code",
   "execution_count": null,
   "id": "2bbd19d7-9c2b-464c-a3c1-ef715bfc367f",
   "metadata": {},
   "outputs": [],
   "source": [
    "#5 Giai pt bac 2\n",
    "a,b,c = map(float, input().split())\n"
   ]
  },
  {
   "cell_type": "code",
   "execution_count": 9,
   "id": "f807d1ad-c06b-4236-b99c-02ca7125e637",
   "metadata": {},
   "outputs": [
    {
     "name": "stdin",
     "output_type": "stream",
     "text": [
      " 1 5 3 7\n"
     ]
    },
    {
     "name": "stdout",
     "output_type": "stream",
     "text": [
      "Số nhỏ nhất là 1\n"
     ]
    }
   ],
   "source": [
    "#6\n",
    "a,b,c,d = map(int, input().split())\n",
    "if d < c:\n",
    "    d,c = c,d\n",
    "if c < b:\n",
    "    c,b = b,c\n",
    "if b < a:\n",
    "    b,a = a,b\n",
    "print(f'Số nhỏ nhất là {a}')"
   ]
  },
  {
   "cell_type": "code",
   "execution_count": 11,
   "id": "82a5b003-e025-48c8-aebb-4ea58ac53ce3",
   "metadata": {},
   "outputs": [
    {
     "name": "stdin",
     "output_type": "stream",
     "text": [
      " 14 29  19 0\n"
     ]
    },
    {
     "name": "stdout",
     "output_type": "stream",
     "text": [
      "Số lớn nhất là 29\n"
     ]
    }
   ],
   "source": [
    "#7\n",
    "a,b,c,d = map(int, input().split())\n",
    "if d > c:\n",
    "    d,c = c,d\n",
    "if c > b:\n",
    "    c,b = b,c\n",
    "if b > a:\n",
    "    b,a = a,b\n",
    "print(f'Số lớn nhất là {a}')"
   ]
  },
  {
   "cell_type": "code",
   "execution_count": null,
   "id": "162bfe95-e19c-4355-b958-8a7ff269bf22",
   "metadata": {},
   "outputs": [],
   "source": [
    "#8\n"
   ]
  },
  {
   "cell_type": "code",
   "execution_count": 27,
   "id": "be41b082-b45a-4318-8f18-53c29b99b13f",
   "metadata": {},
   "outputs": [
    {
     "name": "stdin",
     "output_type": "stream",
     "text": [
      " 60\n"
     ]
    },
    {
     "name": "stdout",
     "output_type": "stream",
     "text": [
      "Thoi gian duoc doi ra gio la 0.017\n",
      "Thoi gian duoc doi ra phut la 1.000\n"
     ]
    }
   ],
   "source": [
    "#9\n",
    "x = int(input())\n",
    "print(f'Thoi gian duoc doi ra gio la {x/3600:.3f}')\n",
    "print(f'Thoi gian duoc doi ra phut la {x/60:.3f}')"
   ]
  },
  {
   "cell_type": "code",
   "execution_count": 29,
   "id": "3452b852-888c-49d4-b5be-74eeb42be230",
   "metadata": {},
   "outputs": [
    {
     "name": "stdin",
     "output_type": "stream",
     "text": [
      " 13\n"
     ]
    },
    {
     "name": "stdout",
     "output_type": "stream",
     "text": [
      "3\n"
     ]
    }
   ],
   "source": [
    "#10\n",
    "tuoi = int(input())\n",
    "print(\"1\" if tuoi < 13 else \"3\")"
   ]
  },
  {
   "cell_type": "code",
   "execution_count": 21,
   "id": "08c4782b-3a01-4e0f-8f84-eb96055b90ea",
   "metadata": {},
   "outputs": [
    {
     "name": "stdin",
     "output_type": "stream",
     "text": [
      " 2 3.01\n"
     ]
    },
    {
     "name": "stdout",
     "output_type": "stream",
     "text": [
      "8.06\n",
      "8.05564440045375\n"
     ]
    }
   ],
   "source": [
    "#11\n",
    "x,y = map(float, input().split())\n",
    "print(f'{pow(x,y):.2f}')\n",
    "print(x**y)"
   ]
  }
 ],
 "metadata": {
  "kernelspec": {
   "display_name": "Python 3 (ipykernel)",
   "language": "python",
   "name": "python3"
  },
  "language_info": {
   "codemirror_mode": {
    "name": "ipython",
    "version": 3
   },
   "file_extension": ".py",
   "mimetype": "text/x-python",
   "name": "python",
   "nbconvert_exporter": "python",
   "pygments_lexer": "ipython3",
   "version": "3.13.5"
  }
 },
 "nbformat": 4,
 "nbformat_minor": 5
}
