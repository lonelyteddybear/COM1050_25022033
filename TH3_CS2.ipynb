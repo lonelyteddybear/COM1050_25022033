{
 "cells": [
  {
   "cell_type": "code",
   "execution_count": null,
   "id": "68959aa9-e0bb-4a80-8853-e97ee0aca24a",
   "metadata": {},
   "outputs": [],
   "source": []
  },
  {
   "cell_type": "code",
   "execution_count": 1,
   "id": "7a1caee9-f6a6-43f4-bdd2-ac82c9884a98",
   "metadata": {},
   "outputs": [
    {
     "name": "stdin",
     "output_type": "stream",
     "text": [
      " 3 4 5\n"
     ]
    },
    {
     "name": "stdout",
     "output_type": "stream",
     "text": [
      "Chu vi la: 12.00, dien tich la: 6.00\n"
     ]
    }
   ],
   "source": [
    "import math as mt\n",
    "a,b,c = map(float, input().split())\n",
    "\n",
    "if (a + b > c and a + c > b and b + c > a and a > 0 and b > 0 and c > 0):\n",
    "    P_all = a + b + c\n",
    "    P = P_all/2\n",
    "    S = mt.sqrt(P * (P-a) * (P-b) * (P-c))\n",
    "    print(f'Chu vi la: {P_all:.2f}, dien tich la: {S:.2f}')"
   ]
  },
  {
   "cell_type": "code",
   "execution_count": 2,
   "id": "6c56cf1c-3d90-44c1-bee6-caf6564961a1",
   "metadata": {},
   "outputs": [
    {
     "name": "stdin",
     "output_type": "stream",
     "text": [
      " 1 5\n"
     ]
    },
    {
     "name": "stdout",
     "output_type": "stream",
     "text": [
      "1 nho hon 5\n"
     ]
    }
   ],
   "source": [
    "a,b = map(int, input().split())\n",
    "if a > b:\n",
    "    print(\"LON HON\")\n",
    "else: \n",
    "    print(\"{0} nho hon {1}\".format(a,b))"
   ]
  },
  {
   "cell_type": "code",
   "execution_count": 20,
   "id": "e959e94a-b6ac-41c6-8a9e-9729099e53ce",
   "metadata": {},
   "outputs": [
    {
     "name": "stdin",
     "output_type": "stream",
     "text": [
      " 1/4/2001\n"
     ]
    },
    {
     "name": "stdout",
     "output_type": "stream",
     "text": [
      "0\n",
      "INVALID\n"
     ]
    }
   ],
   "source": [
    "##BONUS\n",
    "\n",
    "dd,mm,yy = map(int, input().split(\"/\")) \n",
    "\n",
    "Max = -1\n",
    "match mm:\n",
    "    case (4,6,9,11): Max = 30\n",
    "    case (1,3,5,7,8,10,12): Max = 31\n",
    "    case 2:\n",
    "        if (yy % 400 ==0 or (yy % 4 == 0 and yy % 100 != 0)): Max = 29\n",
    "        else: Max = 28\n",
    "\n",
    "print(Max)\n",
    "if (dd <= Max and dd > 0 and yy >= 1900):\n",
    "    print(\"VALID\")\n",
    "else:\n",
    "    print(\"INVALID\")"
   ]
  },
  {
   "cell_type": "code",
   "execution_count": 15,
   "id": "06280a31-daa3-4056-bcf1-02f7ba8edf58",
   "metadata": {},
   "outputs": [
    {
     "name": "stdin",
     "output_type": "stream",
     "text": [
      " 28/2/2024\n"
     ]
    },
    {
     "name": "stdout",
     "output_type": "stream",
     "text": [
      "VAL\n",
      "28 2 2024\n"
     ]
    }
   ],
   "source": [
    "#Nhap ngay/thang/nam theo dung dinh dang\n",
    "#Kiem tra do co phai la ngay hop le khong\n",
    "#Ngay < 1 hay > lim => invalid\n",
    "#THang > 12 hay < 1 => invalid\n",
    "#Nam < 1900 hay > 2100 => invalid\n",
    "\n",
    "#input().split(\"/\"): cac variables separated by dau \"/\"\n",
    "dd,mm,yy = map(int, input().split(\"/\")) \n",
    "\n",
    "if (dd > 0 and dd <= 31 and mm > 0 and mm <= 12 and yy >= 1900):\n",
    "    if ((mm == 4 or mm == 6 or mm == 9 or mm == 11) and dd <= 30):\n",
    "        print(\"VALID\")\n",
    "    elif((mm == 1 or mm == 3 or mm == 5 or mm == 7 or mm == 9 or mm == 10 or mm == 12) and dd <= 31):\n",
    "        print(\"VAL\")\n",
    "    else:\n",
    "        if (yy % 400 == 0 or (yy % 4 == 0 and yy % 100 != 0)):\n",
    "            if (dd <= 29):\n",
    "                print(\"VAL\")\n",
    "            else: \n",
    "                print(\"INVAL\")\n",
    "        else:\n",
    "            if (dd < 29):\n",
    "                print(\"VAL\")\n",
    "            else: \n",
    "                print(\"INVAL\")\n",
    "else:\n",
    "    print(\"INVAL\")\n",
    "print(dd, mm, yy)"
   ]
  },
  {
   "cell_type": "code",
   "execution_count": null,
   "id": "a902c0a0-b19c-4e51-86c9-815b6fee7028",
   "metadata": {},
   "outputs": [],
   "source": []
  }
 ],
 "metadata": {
  "kernelspec": {
   "display_name": "Python 3 (ipykernel)",
   "language": "python",
   "name": "python3"
  },
  "language_info": {
   "codemirror_mode": {
    "name": "ipython",
    "version": 3
   },
   "file_extension": ".py",
   "mimetype": "text/x-python",
   "name": "python",
   "nbconvert_exporter": "python",
   "pygments_lexer": "ipython3",
   "version": "3.13.5"
  }
 },
 "nbformat": 4,
 "nbformat_minor": 5
}
